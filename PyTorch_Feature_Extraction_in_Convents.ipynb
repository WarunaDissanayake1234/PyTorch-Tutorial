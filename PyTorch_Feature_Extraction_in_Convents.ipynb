{
  "nbformat": 4,
  "nbformat_minor": 0,
  "metadata": {
    "colab": {
      "provenance": [],
      "authorship_tag": "ABX9TyO5ToHZpQgaHGV8YjgVq1xy",
      "include_colab_link": true
    },
    "kernelspec": {
      "name": "python3",
      "display_name": "Python 3"
    },
    "language_info": {
      "name": "python"
    }
  },
  "cells": [
    {
      "cell_type": "markdown",
      "metadata": {
        "id": "view-in-github",
        "colab_type": "text"
      },
      "source": [
        "<a href=\"https://colab.research.google.com/github/WarunaDissanayake1234/PyTorch-Tutorial/blob/main/PyTorch_Feature_Extraction_in_Convents.ipynb\" target=\"_parent\"><img src=\"https://colab.research.google.com/assets/colab-badge.svg\" alt=\"Open In Colab\"/></a>"
      ]
    },
    {
      "cell_type": "markdown",
      "source": [
        "Import the modules"
      ],
      "metadata": {
        "id": "8wpjQ_Om73aJ"
      }
    },
    {
      "cell_type": "code",
      "source": [
        "!pip install torchvision"
      ],
      "metadata": {
        "id": "qVFlvRQS8WJ_"
      },
      "execution_count": null,
      "outputs": []
    },
    {
      "cell_type": "code",
      "execution_count": 4,
      "metadata": {
        "id": "Nansf5YS6VIK"
      },
      "outputs": [],
      "source": [
        "import torch\n",
        "import torch.nn as nn\n",
        "from torchvision import models"
      ]
    },
    {
      "cell_type": "markdown",
      "source": [
        "Create a class of feature extractor which can be called as and when needed."
      ],
      "metadata": {
        "id": "yLdVXBwa8kEv"
      }
    },
    {
      "cell_type": "code",
      "source": [
        "class Feature_extractor(nn.module):\n",
        "   def forward(self, input):\n",
        "      self.feature = input.clone()\n",
        "      return input\n",
        "new_net = nn.Sequential().cuda() # the new network\n",
        "target_layers = [conv_1, conv_2, conv_4] # layers you want to extract`\n",
        "i = 1\n",
        "for layer in list(cnn):\n",
        "   if isinstance(layer,nn.Conv2d):\n",
        "      name = \"conv_\"+str(i)\n",
        "      art_net.add_module(name,layer)\n",
        "      if name in target_layers:\n",
        "         new_net.add_module(\"extractor_\"+str(i),Feature_extractor())\n",
        "      i+=1\n",
        "   if isinstance(layer,nn.ReLU):\n",
        "      name = \"relu_\"+str(i)\n",
        "      new_net.add_module(name,layer)\n",
        "   if isinstance(layer,nn.MaxPool2d):\n",
        "      name = \"pool_\"+str(i)\n",
        "      new_net.add_module(name,layer)\n",
        "new_net.forward(your_image)\n",
        "print (new_net.extractor_3.feature)"
      ],
      "metadata": {
        "id": "iT1yD_418K7M"
      },
      "execution_count": null,
      "outputs": []
    },
    {
      "cell_type": "code",
      "source": [],
      "metadata": {
        "id": "i-TUG0s19qFH"
      },
      "execution_count": null,
      "outputs": []
    }
  ]
}