{
  "nbformat": 4,
  "nbformat_minor": 0,
  "metadata": {
    "colab": {
      "provenance": [],
      "authorship_tag": "ABX9TyNzUAEa8I8Egw/4P0YNaEB9",
      "include_colab_link": true
    },
    "kernelspec": {
      "name": "python3",
      "display_name": "Python 3"
    },
    "language_info": {
      "name": "python"
    }
  },
  "cells": [
    {
      "cell_type": "markdown",
      "metadata": {
        "id": "view-in-github",
        "colab_type": "text"
      },
      "source": [
        "<a href=\"https://colab.research.google.com/github/WarunaDissanayake1234/PyTorch-Tutorial/blob/main/PyTorch_Training_a_Convent_from_Scratch.ipynb\" target=\"_parent\"><img src=\"https://colab.research.google.com/assets/colab-badge.svg\" alt=\"Open In Colab\"/></a>"
      ]
    },
    {
      "cell_type": "markdown",
      "source": [
        "Importing Dependancies"
      ],
      "metadata": {
        "id": "fDO9ysD0vP90"
      }
    },
    {
      "cell_type": "code",
      "execution_count": 1,
      "metadata": {
        "id": "d4OmgMYTsRP2"
      },
      "outputs": [],
      "source": [
        "import torch\n",
        "from torch import nn\n"
      ]
    },
    {
      "cell_type": "markdown",
      "source": [
        "Create a necessary class with respective parameters. The parameters include weights with random value."
      ],
      "metadata": {
        "id": "EL8i5DlExyUO"
      }
    },
    {
      "cell_type": "code",
      "source": [
        "class Neural_Network(nn.Module):\n",
        "  def _init_(self,):\n",
        "    super(Neural_Network,self)._init_()\n",
        "    self.inputSize = 2\n",
        "    self.outputSize = 1\n",
        "    self.hiddenSize = 3\n",
        "\n",
        "    # weights\n",
        "    self.W1 = torch.randn(self.inputSize,self.hiddenSize)# 3 X 2 tensor\n",
        "    self.W2 = torch.randn(self.hiddenSize, self.outputSize)# 3 X 1 tensor"
      ],
      "metadata": {
        "id": "g6Op0OPnvrxp"
      },
      "execution_count": 2,
      "outputs": []
    },
    {
      "cell_type": "markdown",
      "source": [
        "Create a feed forward pattern of function with sigmoid functions."
      ],
      "metadata": {
        "id": "SbNxSsGpxzgm"
      }
    },
    {
      "cell_type": "code",
      "source": [
        "def forward(self,X):\n",
        "  self.z = torch.matmul(X, self.W1)# 3 X 3 \".dot\"dose not broadcast in Pytorch\n",
        "  self.z2 = self.sigmoid(self.z) # activation function\n",
        "  self.z3 = torch.matmul(self.z2,self.W2)\n",
        "  o = self.sigmoid(self.z3) # final activation function\n",
        "  return o\n",
        "\n",
        "  def sigmoid(self, s):\n",
        "    return 1/(1+torch.exp(-s))\n",
        "\n",
        "  def sigmoidPrime(self, s):\n",
        "    # derivative of sigmoid\n",
        "    return s * (1-s)\n",
        "\n",
        "  def backward(self,X,y,o):\n",
        "    self.o_error = y - o # error in output\n",
        "    self.o_delta = self.o_error * self.sigmoidPrime(o) # derivative of sig to error\n",
        "    self.z2_error = torch.matmul(self.o_delta, torch.t(self.W2))\n",
        "    self.z2_delta = self.z2_error * self.sigmoidPrime(self.z2)\n",
        "    self.W1 += torch.matmul(torch.t(X), self.z2_delta)\n",
        "    self.W2 += torch.matmul(torch.t(self.z2), self.o_delta)"
      ],
      "metadata": {
        "id": "xAU9oIZ4x24g"
      },
      "execution_count": 3,
      "outputs": []
    },
    {
      "cell_type": "markdown",
      "source": [
        "Create a training and prediction model"
      ],
      "metadata": {
        "id": "hJvfU84Z2R3M"
      }
    },
    {
      "cell_type": "code",
      "source": [
        "def train(self, X, y):\n",
        "  # forward + backward pass for training\n",
        "\n",
        "  o = self.forward(X)\n",
        "  self.backward(X, y, o)\n",
        "def saveWeight(self, model):\n",
        "  # Implement pyTorch internal storage functions\n",
        "  torch.save(model, \"NN\")\n",
        "  # you can reload model with all the weights and so forth with:\n",
        "  # torch.load(\"NN\")\n",
        "def predict(self):\n",
        "  print (\"Predicted data based on trained weights: \")\n",
        "  print (\"Input (scaled): \\n\" + str(xPredicted))\n",
        "  print (\"Output: \\n\" + str(self.forward(xPredicted)))"
      ],
      "metadata": {
        "id": "2lnkuqAF2XOE"
      },
      "execution_count": 4,
      "outputs": []
    }
  ]
}