{
  "nbformat": 4,
  "nbformat_minor": 0,
  "metadata": {
    "colab": {
      "provenance": [],
      "authorship_tag": "ABX9TyO1DJWUyy6NzB5Q9LPZs+j5",
      "include_colab_link": true
    },
    "kernelspec": {
      "name": "python3",
      "display_name": "Python 3"
    },
    "language_info": {
      "name": "python"
    }
  },
  "cells": [
    {
      "cell_type": "markdown",
      "metadata": {
        "id": "view-in-github",
        "colab_type": "text"
      },
      "source": [
        "<a href=\"https://colab.research.google.com/github/WarunaDissanayake1234/PyTorch-Tutorial/blob/main/PyTorch_Recurrent_Neural_Network.ipynb\" target=\"_parent\"><img src=\"https://colab.research.google.com/assets/colab-badge.svg\" alt=\"Open In Colab\"/></a>"
      ]
    },
    {
      "cell_type": "markdown",
      "source": [
        "Import the necessary packages for implementing recurrent neural networks"
      ],
      "metadata": {
        "id": "9vH8ArodpkXg"
      }
    },
    {
      "cell_type": "code",
      "execution_count": 1,
      "metadata": {
        "id": "61nYCG_fpJif"
      },
      "outputs": [],
      "source": [
        "import torch\n",
        "from torch.autograd import Variable\n",
        "import numpy as np\n",
        "import pylab as pl\n",
        "import torch.nn.init as init"
      ]
    },
    {
      "cell_type": "markdown",
      "source": [
        "We will set the model hyper parameters with the size of input layer set to 7.\n",
        "\n",
        "There will be 6 context neurons and 1 input neuron for creating target sequence."
      ],
      "metadata": {
        "id": "noL9pKacp8q8"
      }
    },
    {
      "cell_type": "code",
      "source": [
        "dtype = torch.FloatTensor\n",
        "\n",
        "input_size, hidden_size, output_size = 7, 6, 1\n",
        "\n",
        "epochs = 300\n",
        "seq_length = 20\n",
        "lr = 0.1\n",
        "data_time_steps = np.linspace(2, 10, seq_length + 1)\n",
        "data = np.sin(data_time_steps)\n",
        "data.resize((seq_length + 1, 1))\n",
        "\n",
        "x = Variable(torch.Tensor(data[:-1]).type(dtype), requires_grad=False)\n",
        "y = Variable(torch.Tensor(data[1:]).type(dtype), requires_grad=False)"
      ],
      "metadata": {
        "id": "AL8TeaSzp19p"
      },
      "execution_count": 4,
      "outputs": []
    },
    {
      "cell_type": "markdown",
      "source": [
        "Weights are initialized in the recurrent neural network using normal distribution with zero mean.\n",
        "\n",
        "W1 will represent acceptance of input variables and w2"
      ],
      "metadata": {
        "id": "3AyzAIIZtwfY"
      }
    },
    {
      "cell_type": "code",
      "source": [
        "w1 = torch.FloatTensor(input_size,\n",
        "hidden_size).type(dtype)\n",
        "init.normal(w1, 0.0, 0.4)\n",
        "w1 = Variable(w1, requires_grad = True)\n",
        "w2 = torch.FloatTensor(hidden_size, output_size).type(dtype)\n",
        "init.normal(w2, 0.0, 0.3)\n",
        "w2 = Variable(w2, requires_grad = True)"
      ],
      "metadata": {
        "colab": {
          "base_uri": "https://localhost:8080/"
        },
        "id": "3_okt65cq-Zs",
        "outputId": "3d6841d3-e218-4b1e-c4fb-213dcc84a21c"
      },
      "execution_count": 5,
      "outputs": [
        {
          "output_type": "stream",
          "name": "stderr",
          "text": [
            "<ipython-input-5-8cd10b8a9cc3>:3: UserWarning: nn.init.normal is now deprecated in favor of nn.init.normal_.\n",
            "  init.normal(w1, 0.0, 0.4)\n",
            "<ipython-input-5-8cd10b8a9cc3>:6: UserWarning: nn.init.normal is now deprecated in favor of nn.init.normal_.\n",
            "  init.normal(w2, 0.0, 0.3)\n"
          ]
        }
      ]
    },
    {
      "cell_type": "markdown",
      "source": [
        "Now, it is important to create a function for feed forward which uniquely defines the neural network."
      ],
      "metadata": {
        "id": "weIYgIN6t56H"
      }
    },
    {
      "cell_type": "code",
      "source": [
        "def forward(input, context_state, w1, w2):\n",
        "   xh = torch.cat((input, context_state), 1)\n",
        "   context_state = torch.tanh(xh.mm(w1))\n",
        "   out = context_state.mm(w2)\n",
        "   return (out, context_state)"
      ],
      "metadata": {
        "id": "HGCynWnQt6_u"
      },
      "execution_count": 7,
      "outputs": []
    },
    {
      "cell_type": "markdown",
      "source": [
        "The next step is to start training procedure of recurrent neural network’s sine wave implementation. The outer loop iterates over each loop and the inner loop iterates through the element of sequence. Here, we will also compute Mean Square Error (MSE) which helps in the prediction of continuous variables."
      ],
      "metadata": {
        "id": "b9U0uguwt8-3"
      }
    },
    {
      "cell_type": "code",
      "source": [
        "for i in range(epochs):\n",
        "   total_loss = 0\n",
        "   context_state = Variable(torch.zeros((1, hidden_size)).type(dtype), requires_grad = True)\n",
        "   for j in range(x.size(0)):\n",
        "      input = x[j:(j+1)]\n",
        "      target = y[j:(j+1)]\n",
        "      (pred, context_state) = forward(input, context_state, w1, w2)\n",
        "      loss = (pred - target).pow(2).sum()/2\n",
        "      total_loss += loss\n",
        "      loss.backward()\n",
        "      w1.data -= lr * w1.grad.data\n",
        "      w2.data -= lr * w2.grad.data\n",
        "      w1.grad.data.zero_()\n",
        "      w2.grad.data.zero_()\n",
        "      context_state = Variable(context_state.data)\n",
        "   if i % 10 == 0:\n",
        "      print(\"Epoch: {} loss {}\".format(i, total_loss.item()))\n",
        "\n",
        "context_state = Variable(torch.zeros((1, hidden_size)).type(dtype), requires_grad = False)\n",
        "predictions = []\n",
        "\n",
        "for i in range(x.size(0)):\n",
        "   input = x[i:i+1]\n",
        "   (pred, context_state) = forward(input, context_state, w1, w2)\n",
        "   context_state = context_state\n",
        "   predictions.append(pred.data.numpy().ravel()[0])"
      ],
      "metadata": {
        "colab": {
          "base_uri": "https://localhost:8080/"
        },
        "id": "N53tW0Hct8lP",
        "outputId": "e5ae882b-515a-4927-91be-440d9db550b3"
      },
      "execution_count": 10,
      "outputs": [
        {
          "output_type": "stream",
          "name": "stdout",
          "text": [
            "Epoch: 0 loss 1.0994112491607666\n",
            "Epoch: 10 loss 0.23343701660633087\n",
            "Epoch: 20 loss 0.17125976085662842\n",
            "Epoch: 30 loss 0.1465466469526291\n",
            "Epoch: 40 loss 0.13244009017944336\n",
            "Epoch: 50 loss 0.12189725041389465\n",
            "Epoch: 60 loss 0.11299283057451248\n",
            "Epoch: 70 loss 0.10519477725028992\n",
            "Epoch: 80 loss 0.09830071032047272\n",
            "Epoch: 90 loss 0.09218630939722061\n",
            "Epoch: 100 loss 0.08675114810466766\n",
            "Epoch: 110 loss 0.08190692216157913\n",
            "Epoch: 120 loss 0.07757546007633209\n",
            "Epoch: 130 loss 0.073687344789505\n",
            "Epoch: 140 loss 0.07018224149942398\n",
            "Epoch: 150 loss 0.06700653582811356\n",
            "Epoch: 160 loss 0.06411445140838623\n",
            "Epoch: 170 loss 0.06146655231714249\n",
            "Epoch: 180 loss 0.05902852490544319\n",
            "Epoch: 190 loss 0.05677155777812004\n",
            "Epoch: 200 loss 0.05467040464282036\n",
            "Epoch: 210 loss 0.05270388722419739\n",
            "Epoch: 220 loss 0.050853755325078964\n",
            "Epoch: 230 loss 0.04910406842827797\n",
            "Epoch: 240 loss 0.047441672533750534\n",
            "Epoch: 250 loss 0.04585486650466919\n",
            "Epoch: 260 loss 0.04433373734354973\n",
            "Epoch: 270 loss 0.042869582772254944\n",
            "Epoch: 280 loss 0.04145503416657448\n",
            "Epoch: 290 loss 0.040083374828100204\n"
          ]
        }
      ]
    },
    {
      "cell_type": "markdown",
      "source": [
        "Now, it is time to plot the sine wave as the way it is needed."
      ],
      "metadata": {
        "id": "ZMgcqhJRuJi0"
      }
    },
    {
      "cell_type": "code",
      "source": [
        "pl.scatter(data_time_steps[:-1], x.data.numpy(), s = 90, label = \"Actual\")\n",
        "pl.scatter(data_time_steps[1:], predictions, label = \"Predicted\")\n",
        "pl.legend()\n",
        "pl.show()"
      ],
      "metadata": {
        "colab": {
          "base_uri": "https://localhost:8080/",
          "height": 430
        },
        "id": "qfVRQCP_uLd1",
        "outputId": "abf2b3ff-5a91-46ab-bafc-28df6997a716"
      },
      "execution_count": 11,
      "outputs": [
        {
          "output_type": "display_data",
          "data": {
            "text/plain": [
              "<Figure size 640x480 with 1 Axes>"
            ],
            "image/png": "[encoded data removed]"
          },
          "metadata": {}
        }
      ]
    }
  ]
}