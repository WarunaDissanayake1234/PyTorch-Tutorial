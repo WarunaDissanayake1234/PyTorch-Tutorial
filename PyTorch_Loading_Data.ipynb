{
  "nbformat": 4,
  "nbformat_minor": 0,
  "metadata": {
    "colab": {
      "provenance": [],
      "authorship_tag": "ABX9TyMuL23o/O7tGjVmMAAuWH1O",
      "include_colab_link": true
    },
    "kernelspec": {
      "name": "python3",
      "display_name": "Python 3"
    },
    "language_info": {
      "name": "python"
    }
  },
  "cells": [
    {
      "cell_type": "markdown",
      "metadata": {
        "id": "view-in-github",
        "colab_type": "text"
      },
      "source": [
        "<a href=\"https://colab.research.google.com/github/WarunaDissanayake1234/PyTorch-Tutorial/blob/main/PyTorch_Loading_Data.ipynb\" target=\"_parent\"><img src=\"https://colab.research.google.com/assets/colab-badge.svg\" alt=\"Open In Colab\"/></a>"
      ]
    },
    {
      "cell_type": "markdown",
      "source": [
        "Dataset is used to read and transform a datapoint from the given dataset. The basic syntax to implement is mentioned below"
      ],
      "metadata": {
        "id": "GX7DJllI5JAy"
      }
    },
    {
      "cell_type": "code",
      "execution_count": null,
      "metadata": {
        "id": "nda6vZad4MrP"
      },
      "outputs": [],
      "source": [
        "trainset = torchvision.datasets.CIFAR10(root = './data', train = True,\n",
        "   download = True, transform = transform)"
      ]
    },
    {
      "cell_type": "markdown",
      "source": [
        "DataLoader is used to shuffle and batch data. It can be used to load the data in parallel with multiprocessing workers."
      ],
      "metadata": {
        "id": "DE7TZMXK5OiZ"
      }
    },
    {
      "cell_type": "code",
      "source": [
        "trainloader = torch.utils.data.DataLoader(trainset, batch_size = 4,\n",
        "   shuffle = True, num_workers = 2)"
      ],
      "metadata": {
        "id": "BYahFFXT5EVi"
      },
      "execution_count": null,
      "outputs": []
    },
    {
      "cell_type": "markdown",
      "source": [
        "Example: Loading CSV File\n",
        "We use the Python package Panda to load the csv file.\n",
        "\n",
        "The original file has the following format: (image name, 68 landmarks - each landmark has a x, y coordinates)."
      ],
      "metadata": {
        "id": "TDYQ9x4T5TAR"
      }
    },
    {
      "cell_type": "code",
      "source": [
        "landmarks_frame = pd.read_csv('faces/face_landmarks.csv')\n",
        "\n",
        "n = 65\n",
        "img_name = landmarks_frame.iloc[n, 0]\n",
        "landmarks = landmarks_frame.iloc[n, 1:].as_matrix()\n",
        "landmarks = landmarks.astype('float').reshape(-1, 2)"
      ],
      "metadata": {
        "id": "jQ9Qjzv85Gjp"
      },
      "execution_count": null,
      "outputs": []
    }
  ]
}