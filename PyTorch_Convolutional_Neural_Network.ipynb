{
  "nbformat": 4,
  "nbformat_minor": 0,
  "metadata": {
    "colab": {
      "provenance": [],
      "authorship_tag": "ABX9TyMvNBPPUN+JH9bdU86FwC12",
      "include_colab_link": true
    },
    "kernelspec": {
      "name": "python3",
      "display_name": "Python 3"
    },
    "language_info": {
      "name": "python"
    }
  },
  "cells": [
    {
      "cell_type": "markdown",
      "metadata": {
        "id": "view-in-github",
        "colab_type": "text"
      },
      "source": [
        "<a href=\"https://colab.research.google.com/github/WarunaDissanayake1234/PyTorch-Tutorial/blob/main/PyTorch_Convolutional_Neural_Network.ipynb\" target=\"_parent\"><img src=\"https://colab.research.google.com/assets/colab-badge.svg\" alt=\"Open In Colab\"/></a>"
      ]
    },
    {
      "cell_type": "markdown",
      "source": [
        "Import the necessary packages for creating a simple neural network."
      ],
      "metadata": {
        "id": "zSWuUs1_XHSX"
      }
    },
    {
      "cell_type": "code",
      "execution_count": 4,
      "metadata": {
        "id": "mLxWsuWhJCBx"
      },
      "outputs": [],
      "source": [
        "import torch\n",
        "from torch.autograd import Variable\n",
        "import torch.nn.functional as F"
      ]
    },
    {
      "cell_type": "markdown",
      "source": [
        "Create a class with batch representation of convolutional neural network.\n",
        "\n"
      ],
      "metadata": {
        "id": "iRMxPPIlXLpN"
      }
    },
    {
      "cell_type": "code",
      "source": [
        "class CNNModel(torch.nn.Module):\n",
        "  def _init_(self):\n",
        "    super(CNNModel,self)._init_()\n",
        "\n",
        "    # Input channels = 3, output channels = 18\n",
        "    self.conv1 = torch.nn.Conv2d(3,18, kernel_size=3, stride = 1, padding = 1)\n",
        "    self.pool = torch.nn.MaxPool2d(kernel_size=2,stride = 2, padding = 0)\n",
        "\n",
        "    # 4608 input features, 64 output features (see sizing flow below)\n",
        "    self.fc1 = torch.nn.Linear(18 * 16 * 16, 64)\n",
        "\n",
        "    # 64 input features, 10 output features for our 10 defined classes\n",
        "    self.fc2 = torch.nn.Linear(64,10)"
      ],
      "metadata": {
        "id": "FjfG1tZtXVFm"
      },
      "execution_count": 5,
      "outputs": []
    },
    {
      "cell_type": "markdown",
      "source": [
        "Compute the activation of the first convolution size changes from (3, 32, 32) to (18, 32, 32).\n",
        "\n",
        "Size of the dimension changes from (18, 32, 32) to (18, 16, 16). Reshape data dimension of the input layer of the neural net due to which size changes from (18, 16, 16) to (1, 4608).\n",
        "\n",
        "Recall that -1 infers this dimension from the other given dimension."
      ],
      "metadata": {
        "id": "9_M9U1ZLf2Gg"
      }
    },
    {
      "cell_type": "code",
      "source": [
        "def forward(self, x):\n",
        "  x = F.relu(self.conv1)\n",
        "  x = self.pool(x)\n",
        "  x = x.view(-1, 18 * 16 * 16)\n",
        "  x = F.relu(self.fc1(x))\n",
        "  # Computes the second fully connected layer (activation applied later)\n",
        "  # Size changes from (1, 64) to (1, 10)\n",
        "  x = self.fc2(x)\n",
        "  return(x)\n"
      ],
      "metadata": {
        "id": "VcvczBk1fx-Q"
      },
      "execution_count": 6,
      "outputs": []
    }
  ]
}