{
  "nbformat": 4,
  "nbformat_minor": 0,
  "metadata": {
    "colab": {
      "provenance": [],
      "authorship_tag": "ABX9TyO+PFd0zxUkTBFmtr20Axt6",
      "include_colab_link": true
    },
    "kernelspec": {
      "name": "python3",
      "display_name": "Python 3"
    },
    "language_info": {
      "name": "python"
    }
  },
  "cells": [
    {
      "cell_type": "markdown",
      "metadata": {
        "id": "view-in-github",
        "colab_type": "text"
      },
      "source": [
        "<a href=\"https://colab.research.google.com/github/WarunaDissanayake1234/PyTorch-Tutorial/blob/main/PyTorch_Sequence_Processing_with_Convents.ipynb\" target=\"_parent\"><img src=\"https://colab.research.google.com/assets/colab-badge.svg\" alt=\"Open In Colab\"/></a>"
      ]
    },
    {
      "cell_type": "markdown",
      "source": [
        "Import the necessary modules"
      ],
      "metadata": {
        "id": "5HB3owQeGLIa"
      }
    },
    {
      "cell_type": "code",
      "execution_count": 1,
      "metadata": {
        "id": "gITyKuPnGBce"
      },
      "outputs": [],
      "source": [
        "import keras\n",
        "from keras.datasets import mnist\n",
        "from keras.models import Sequential\n",
        "from keras.layers import Dense, Dropout, Flatten\n",
        "from keras.layers import Conv2D, MaxPooling2D\n",
        "import numpy as np"
      ]
    },
    {
      "cell_type": "markdown",
      "source": [
        "Perform the necessary operations to create a pattern in respective sequence"
      ],
      "metadata": {
        "id": "zEEdwhf7GYFh"
      }
    },
    {
      "cell_type": "code",
      "source": [
        "batch_size = 128\n",
        "num_classes = 10\n",
        "epochs = 12\n",
        "# input image dimensions\n",
        "img_rows, img_cols = 28, 28\n",
        "# the data, split between train and test sets\n",
        "(x_train, y_train), (x_test, y_test) = mnist.load_data()\n",
        "x_train = x_train.reshape(60000,28,28,1)\n",
        "x_test = x_test.reshape(10000,28,28,1)\n",
        "print('x_train shape:', x_train.shape)\n",
        "print(x_train.shape[0], 'train samples')\n",
        "print(x_test.shape[0], 'test samples')\n",
        "y_train = keras.utils.to_categorical(y_train, num_classes)\n",
        "y_test = keras.utils.to_categorical(y_test, num_classes)"
      ],
      "metadata": {
        "colab": {
          "base_uri": "https://localhost:8080/"
        },
        "id": "vrxnG5-YGO6g",
        "outputId": "d6602493-b90e-4af0-899b-2619623f7f43"
      },
      "execution_count": 2,
      "outputs": [
        {
          "output_type": "stream",
          "name": "stdout",
          "text": [
            "Downloading data from https://storage.googleapis.com/tensorflow/tf-keras-datasets/mnist.npz\n",
            "11490434/11490434 [==============================] - 0s 0us/step\n",
            "x_train shape: (60000, 28, 28, 1)\n",
            "60000 train samples\n",
            "10000 test samples\n"
          ]
        }
      ]
    },
    {
      "cell_type": "markdown",
      "source": [
        "Compile the model and fit the pattern in the mentioned conventional neural network model"
      ],
      "metadata": {
        "id": "HYOnGeuUGfoR"
      }
    },
    {
      "cell_type": "code",
      "source": [
        "model = Sequential()\n",
        "model.add(Conv2D(32, (3, 3), activation='relu', input_shape=(28, 28, 1)))\n",
        "model.add(MaxPooling2D((2, 2)))\n",
        "model.add(Flatten())\n",
        "model.add(Dense(10, activation='softmax'))"
      ],
      "metadata": {
        "id": "oM5RWnJSHbuC"
      },
      "execution_count": 4,
      "outputs": []
    },
    {
      "cell_type": "code",
      "source": [
        "model.compile(loss =\n",
        "keras.losses.categorical_crossentropy,\n",
        "optimizer = keras.optimizers.Adadelta(), metrics =\n",
        "['accuracy'])\n",
        "model.fit(x_train, y_train,\n",
        "batch_size = batch_size, epochs = epochs,\n",
        "verbose = 1, validation_data = (x_test, y_test))\n",
        "score = model.evaluate(x_test, y_test, verbose = 0)\n",
        "print('Test loss:', score[0])\n",
        "print('Test accuracy:', score[1])"
      ],
      "metadata": {
        "colab": {
          "base_uri": "https://localhost:8080/"
        },
        "id": "xgnThhK3GgUY",
        "outputId": "77dac88f-5bd0-4dda-f869-5455babe7168"
      },
      "execution_count": 7,
      "outputs": [
        {
          "output_type": "stream",
          "name": "stdout",
          "text": [
            "Epoch 1/12\n",
            "469/469 [==============================] - 25s 51ms/step - loss: 30.4405 - accuracy: 0.1572 - val_loss: 22.1141 - val_accuracy: 0.1925\n",
            "Epoch 2/12\n",
            "469/469 [==============================] - 25s 54ms/step - loss: 18.7474 - accuracy: 0.2275 - val_loss: 14.6152 - val_accuracy: 0.2845\n",
            "Epoch 3/12\n",
            "469/469 [==============================] - 23s 49ms/step - loss: 12.9167 - accuracy: 0.3332 - val_loss: 10.3147 - val_accuracy: 0.3977\n",
            "Epoch 4/12\n",
            "469/469 [==============================] - 24s 52ms/step - loss: 9.4249 - accuracy: 0.4360 - val_loss: 7.7262 - val_accuracy: 0.4938\n",
            "Epoch 5/12\n",
            "469/469 [==============================] - 24s 51ms/step - loss: 7.2752 - accuracy: 0.5165 - val_loss: 6.1011 - val_accuracy: 0.5656\n",
            "Epoch 6/12\n",
            "469/469 [==============================] - 21s 46ms/step - loss: 5.8704 - accuracy: 0.5799 - val_loss: 5.0121 - val_accuracy: 0.6158\n",
            "Epoch 7/12\n",
            "469/469 [==============================] - 23s 49ms/step - loss: 4.9132 - accuracy: 0.6282 - val_loss: 4.2539 - val_accuracy: 0.6586\n",
            "Epoch 8/12\n",
            "469/469 [==============================] - 23s 48ms/step - loss: 4.2295 - accuracy: 0.6658 - val_loss: 3.7146 - val_accuracy: 0.6919\n",
            "Epoch 9/12\n",
            "469/469 [==============================] - 21s 45ms/step - loss: 3.7214 - accuracy: 0.6956 - val_loss: 3.3029 - val_accuracy: 0.7188\n",
            "Epoch 10/12\n",
            "469/469 [==============================] - 23s 49ms/step - loss: 3.3325 - accuracy: 0.7205 - val_loss: 2.9855 - val_accuracy: 0.7390\n",
            "Epoch 11/12\n",
            "469/469 [==============================] - 21s 46ms/step - loss: 3.0288 - accuracy: 0.7396 - val_loss: 2.7322 - val_accuracy: 0.7551\n",
            "Epoch 12/12\n",
            "469/469 [==============================] - 24s 52ms/step - loss: 2.7858 - accuracy: 0.7553 - val_loss: 2.5256 - val_accuracy: 0.7694\n",
            "Test loss: 2.525630474090576\n",
            "Test accuracy: 0.7694000005722046\n"
          ]
        }
      ]
    }
  ]
}